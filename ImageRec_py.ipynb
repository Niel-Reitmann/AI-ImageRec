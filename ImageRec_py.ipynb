{
  "nbformat": 4,
  "nbformat_minor": 0,
  "metadata": {
    "colab": {
      "provenance": [],
      "authorship_tag": "ABX9TyOz/nOIuTVVUYTws1IteBCf",
      "include_colab_link": true
    },
    "kernelspec": {
      "name": "python3",
      "display_name": "Python 3"
    },
    "language_info": {
      "name": "python"
    },
    "accelerator": "GPU",
    "gpuClass": "standard"
  },
  "cells": [
    {
      "cell_type": "markdown",
      "metadata": {
        "id": "view-in-github",
        "colab_type": "text"
      },
      "source": [
        "<a href=\"https://colab.research.google.com/github/Niel-Reitmann/AI-ImageRec/blob/main/ImageRec_py.ipynb\" target=\"_parent\"><img src=\"https://colab.research.google.com/assets/colab-badge.svg\" alt=\"Open In Colab\"/></a>"
      ]
    },
    {
      "cell_type": "code",
      "execution_count": null,
      "metadata": {
        "id": "VvEqV-OpQbW3"
      },
      "outputs": [],
      "source": [
        "#import libraries\n",
        "\n",
        "import cv2 as cv\n",
        "import numpy as np\n",
        "import matplotlib.pyplot as plt\n",
        "import tensorflow as tf"
      ]
    },
    {
      "cell_type": "code",
      "source": [
        "#create mnist dataset variable and splice it into training and testing\n",
        "\n",
        "mnist = tf.keras.datasets.mnist\n",
        "(x_train, y_train), (x_test, y_test) = mnist.load_data()"
      ],
      "metadata": {
        "id": "KBILWhOsf_Me"
      },
      "execution_count": null,
      "outputs": []
    },
    {
      "cell_type": "code",
      "source": [
        "#normalize the x (image) dataset to allow for easier computation (instead of 0-256, becomes 0-1)\n",
        "\n",
        "x_train = tf.keras.utils.normalize(x_train, axis=1)\n",
        "x_test = tf.keras.utils.normalize(x_test, axis=1)"
      ],
      "metadata": {
        "id": "WE3vsK4whTuF"
      },
      "execution_count": null,
      "outputs": []
    },
    {
      "cell_type": "code",
      "source": [
        "#create feedforward neural network and add layers (flatten layer, 2 dense layers in between the hidden layers, 1 dense output layer  )\n",
        "\n",
        "model = tf.keras.models.Sequential()\n",
        "model.add(tf.keras.layers.Flatten(input_shape=(28,28)))\n",
        "model.add(tf.keras.layers.Dense(units=128, activation= tf.nn.relu))\n",
        "model.add(tf.keras.layers.Dense(units=128, activation= tf.nn.relu))\n",
        "model.add(tf.keras.layers.Dense(units=10, activation=tf.nn.softmax))"
      ],
      "metadata": {
        "id": "SRg9_3KKiIfL"
      },
      "execution_count": null,
      "outputs": []
    },
    {
      "cell_type": "code",
      "source": [
        "#compile the model\n",
        "\n",
        "model.compile (optimizer='adam', loss='sparse_categorical_crossentropy', metrics=['accuracy'])"
      ],
      "metadata": {
        "id": "fa3BSAKeutis"
      },
      "execution_count": null,
      "outputs": []
    },
    {
      "cell_type": "code",
      "source": [
        "#fitting the model (training), repeat training process 3 times\n",
        "\n",
        "model.fit (x_train, y_train, epochs=3)"
      ],
      "metadata": {
        "id": "2XK15Uydu-oL"
      },
      "execution_count": null,
      "outputs": []
    },
    {
      "cell_type": "code",
      "source": [
        "#evaluate the model\n",
        "\n",
        "loss, accuracy = model.evaluate (x_test, y_test)\n",
        "print (accuracy)\n",
        "print (loss)"
      ],
      "metadata": {
        "id": "qWhaqr-svMJM"
      },
      "execution_count": null,
      "outputs": []
    },
    {
      "cell_type": "code",
      "source": [
        "#after you train the model, save so that you can scan in own images\n",
        "\n",
        "model.save('digits.model')"
      ],
      "metadata": {
        "id": "zllDU256vc77"
      },
      "execution_count": null,
      "outputs": []
    },
    {
      "cell_type": "code",
      "source": [
        "#predict own images drawn in paint\n",
        "\n",
        "for x in range (1,6):\n",
        "  img = cv.imread(f'{x}.png')[:,:,0]\n",
        "  img = np.invert(np.array([img]))\n",
        "  prediction = model.predict(img)\n",
        "  print (f'The result is probably: {np.argmax(prediction)}')\n",
        "  plt.imshow(img[0], cmap=plt.cm.binary)\n",
        "  plt.show()"
      ],
      "metadata": {
        "id": "sqKYU6Zr24CU"
      },
      "execution_count": null,
      "outputs": []
    }
  ]
}